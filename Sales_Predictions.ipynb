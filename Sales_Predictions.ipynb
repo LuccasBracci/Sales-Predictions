{
  "nbformat": 4,
  "nbformat_minor": 0,
  "metadata": {
    "colab": {
      "provenance": [],
      "authorship_tag": "ABX9TyPJ6f146VMyuanA2fRDuYHV",
      "include_colab_link": true
    },
    "kernelspec": {
      "name": "python3",
      "display_name": "Python 3"
    },
    "language_info": {
      "name": "python"
    }
  },
  "cells": [
    {
      "cell_type": "markdown",
      "metadata": {
        "id": "view-in-github",
        "colab_type": "text"
      },
      "source": [
        "<a href=\"https://colab.research.google.com/github/PigeonLore/Sales-Predictions/blob/main/Sales_Predictions.ipynb\" target=\"_parent\"><img src=\"https://colab.research.google.com/assets/colab-badge.svg\" alt=\"Open In Colab\"/></a>"
      ]
    },
    {
      "cell_type": "markdown",
      "source": [
        "# Data Science\n",
        "#####Luccas Bracci"
      ],
      "metadata": {
        "id": "N-EILIHbiiRl"
      }
    },
    {
      "cell_type": "markdown",
      "source": [
        "## Loading Data"
      ],
      "metadata": {
        "id": "B1ClRKsokqvf"
      }
    },
    {
      "cell_type": "code",
      "execution_count": null,
      "metadata": {
        "id": "qA4pRlDkihUH"
      },
      "outputs": [],
      "source": []
    },
    {
      "cell_type": "markdown",
      "source": [
        "## Data Cleaning"
      ],
      "metadata": {
        "id": "cUkx-Iehk0DR"
      }
    },
    {
      "cell_type": "code",
      "source": [],
      "metadata": {
        "id": "A3PXq5dekpsB"
      },
      "execution_count": null,
      "outputs": []
    },
    {
      "cell_type": "markdown",
      "source": [
        "## Exploratory Visuals"
      ],
      "metadata": {
        "id": "z_j3A7vBk2-U"
      }
    },
    {
      "cell_type": "code",
      "source": [],
      "metadata": {
        "id": "yOSsze9ekqQX"
      },
      "execution_count": null,
      "outputs": []
    },
    {
      "cell_type": "markdown",
      "source": [
        "## Explanatory Visuals"
      ],
      "metadata": {
        "id": "_IHTeuyIk5CL"
      }
    },
    {
      "cell_type": "code",
      "source": [],
      "metadata": {
        "id": "4KRfxN1Mkqf0"
      },
      "execution_count": null,
      "outputs": []
    }
  ]
}